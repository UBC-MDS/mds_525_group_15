{
 "cells": [
  {
   "cell_type": "markdown",
   "metadata": {},
   "source": [
    "# Task 3"
   ]
  },
  {
   "cell_type": "markdown",
   "metadata": {},
   "source": [
    "# Imports"
   ]
  },
  {
   "cell_type": "code",
   "execution_count": 1,
   "metadata": {},
   "outputs": [],
   "source": [
    "import json\n",
    "import numpy as np\n",
    "import pandas as pd\n",
    "from joblib import dump, load\n",
    "from sklearn.metrics import mean_squared_error\n",
    "from sklearn.ensemble import RandomForestRegressor\n",
    "from sklearn.model_selection import train_test_split\n",
    "import matplotlib.pyplot as plt\n",
    "from collections import defaultdict\n",
    "\n",
    "plt.style.use('ggplot')\n",
    "plt.rcParams.update(\n",
    "    {'font.size': 16,\n",
    "     'axes.labelweight': 'bold',\n",
    "     'figure.figsize': (8, 6)}\n",
    ")"
   ]
  },
  {
   "cell_type": "markdown",
   "metadata": {},
   "source": [
    "## Part 1:"
   ]
  },
  {
   "cell_type": "markdown",
   "metadata": {},
   "source": [
    "Recall as a final goal of this project. We want to build and deploy ensemble machine learning models in the cloud, where features are outputs of different climate models and the target is the actual rainfall observation. In this milestone, you'll actually build these ensemble machine learning models in the cloud.  \n",
    "\n",
    "**Your tasks:**\n",
    "\n",
    "1. Read the data CSV from your s3 bucket. \n",
    "2. Drop rows with nans. \n",
    "3. Split the data into train (80%) and test (20%) portions with `random_state=123`. \n",
    "4. Carry out EDA of your choice on the train split. \n",
    "5. Train ensemble machine learning model using `RandomForestRegressor` and evaluate with metric of your choice (e.g., `RMSE`) by considering `Observed` as the target column. \n",
    "6. Discuss your results. Are you getting better results with ensemble models compared to the individual climate models? \n",
    "\n",
    "> Recall that individual columns in the data are predictions of different climate models. "
   ]
  },
  {
   "cell_type": "code",
   "execution_count": 2,
   "metadata": {},
   "outputs": [
    {
     "name": "stdout",
     "output_type": "stream",
     "text": [
      "(46020, 26)\n"
     ]
    }
   ],
   "source": [
    "# Step 1: Read CSV file from S3 bucket\n",
    "df = pd.read_csv(\n",
    "    \"https://mds-s3-15.s3.us-west-2.amazonaws.com/output/ml_data_SYD.csv\",\n",
    "    index_col=0,\n",
    "    parse_dates=True)\n",
    "\n",
    "print(df.shape)"
   ]
  },
  {
   "cell_type": "code",
   "execution_count": 3,
   "metadata": {},
   "outputs": [
    {
     "name": "stdout",
     "output_type": "stream",
     "text": [
      "(45989, 26)\n"
     ]
    }
   ],
   "source": [
    "# Step 2: Drop rows with nans\n",
    "df = df.dropna()\n",
    "print(df.shape)"
   ]
  },
  {
   "cell_type": "code",
   "execution_count": 4,
   "metadata": {},
   "outputs": [],
   "source": [
    "# Step 3: Split data\n",
    "target_column = \"observed_rainfall\"\n",
    "df = df.rename(columns={target_column: \"Observed\"})\n",
    "train_df, test_df = train_test_split(df, test_size=0.2, random_state=123)"
   ]
  },
  {
   "cell_type": "code",
   "execution_count": 5,
   "metadata": {},
   "outputs": [
    {
     "data": {
      "text/html": [
       "<div>\n",
       "<style scoped>\n",
       "    .dataframe tbody tr th:only-of-type {\n",
       "        vertical-align: middle;\n",
       "    }\n",
       "\n",
       "    .dataframe tbody tr th {\n",
       "        vertical-align: top;\n",
       "    }\n",
       "\n",
       "    .dataframe thead th {\n",
       "        text-align: right;\n",
       "    }\n",
       "</style>\n",
       "<table border=\"1\" class=\"dataframe\">\n",
       "  <thead>\n",
       "    <tr style=\"text-align: right;\">\n",
       "      <th></th>\n",
       "      <th>ACCESS-CM2</th>\n",
       "      <th>ACCESS-ESM1-5</th>\n",
       "      <th>AWI-ESM-1-1-LR</th>\n",
       "      <th>BCC-CSM2-MR</th>\n",
       "      <th>BCC-ESM1</th>\n",
       "      <th>CMCC-CM2-HR4</th>\n",
       "      <th>CMCC-CM2-SR5</th>\n",
       "      <th>CMCC-ESM2</th>\n",
       "      <th>CanESM5</th>\n",
       "      <th>EC-Earth3-Veg-LR</th>\n",
       "      <th>...</th>\n",
       "      <th>MPI-ESM-1-2-HAM</th>\n",
       "      <th>MPI-ESM1-2-HR</th>\n",
       "      <th>MPI-ESM1-2-LR</th>\n",
       "      <th>MRI-ESM2-0</th>\n",
       "      <th>NESM3</th>\n",
       "      <th>NorESM2-LM</th>\n",
       "      <th>NorESM2-MM</th>\n",
       "      <th>SAM0-UNICON</th>\n",
       "      <th>TaiESM1</th>\n",
       "      <th>Observed</th>\n",
       "    </tr>\n",
       "  </thead>\n",
       "  <tbody>\n",
       "    <tr>\n",
       "      <th>count</th>\n",
       "      <td>36791.000000</td>\n",
       "      <td>36791.000000</td>\n",
       "      <td>3.679100e+04</td>\n",
       "      <td>3.679100e+04</td>\n",
       "      <td>3.679100e+04</td>\n",
       "      <td>36791.000000</td>\n",
       "      <td>3.679100e+04</td>\n",
       "      <td>3.679100e+04</td>\n",
       "      <td>36791.000000</td>\n",
       "      <td>3.679100e+04</td>\n",
       "      <td>...</td>\n",
       "      <td>3.679100e+04</td>\n",
       "      <td>3.679100e+04</td>\n",
       "      <td>3.679100e+04</td>\n",
       "      <td>3.679100e+04</td>\n",
       "      <td>3.679100e+04</td>\n",
       "      <td>36791.000000</td>\n",
       "      <td>36791.000000</td>\n",
       "      <td>3.679100e+04</td>\n",
       "      <td>3.679100e+04</td>\n",
       "      <td>36791.000000</td>\n",
       "    </tr>\n",
       "    <tr>\n",
       "      <th>mean</th>\n",
       "      <td>2.429419</td>\n",
       "      <td>2.938955</td>\n",
       "      <td>3.716329e+00</td>\n",
       "      <td>2.203086e+00</td>\n",
       "      <td>2.748441e+00</td>\n",
       "      <td>3.092784</td>\n",
       "      <td>3.575203e+00</td>\n",
       "      <td>3.489756e+00</td>\n",
       "      <td>2.879339</td>\n",
       "      <td>2.565430e+00</td>\n",
       "      <td>...</td>\n",
       "      <td>3.213535e+00</td>\n",
       "      <td>1.299377e+00</td>\n",
       "      <td>2.041242e+00</td>\n",
       "      <td>1.533212e+00</td>\n",
       "      <td>1.726792e+00</td>\n",
       "      <td>2.458268</td>\n",
       "      <td>2.890478</td>\n",
       "      <td>3.383557e+00</td>\n",
       "      <td>3.417809e+00</td>\n",
       "      <td>2.726320</td>\n",
       "    </tr>\n",
       "    <tr>\n",
       "      <th>std</th>\n",
       "      <td>6.791374</td>\n",
       "      <td>7.048794</td>\n",
       "      <td>7.280859e+00</td>\n",
       "      <td>6.518224e+00</td>\n",
       "      <td>5.997439e+00</td>\n",
       "      <td>6.459254</td>\n",
       "      <td>7.353451e+00</td>\n",
       "      <td>7.039201e+00</td>\n",
       "      <td>6.898890</td>\n",
       "      <td>5.732742e+00</td>\n",
       "      <td>...</td>\n",
       "      <td>6.979341e+00</td>\n",
       "      <td>4.890737e+00</td>\n",
       "      <td>5.347782e+00</td>\n",
       "      <td>5.000287e+00</td>\n",
       "      <td>4.872754e+00</td>\n",
       "      <td>5.815333</td>\n",
       "      <td>7.129072</td>\n",
       "      <td>7.927354e+00</td>\n",
       "      <td>7.558577e+00</td>\n",
       "      <td>8.078310</td>\n",
       "    </tr>\n",
       "    <tr>\n",
       "      <th>min</th>\n",
       "      <td>0.000000</td>\n",
       "      <td>0.000000</td>\n",
       "      <td>9.161142e-14</td>\n",
       "      <td>4.211430e-24</td>\n",
       "      <td>1.091904e-24</td>\n",
       "      <td>0.000000</td>\n",
       "      <td>-4.503054e-17</td>\n",
       "      <td>-3.186177e-19</td>\n",
       "      <td>0.000000</td>\n",
       "      <td>-9.934637e-19</td>\n",
       "      <td>...</td>\n",
       "      <td>3.315622e-13</td>\n",
       "      <td>1.088608e-13</td>\n",
       "      <td>9.155419e-14</td>\n",
       "      <td>9.479186e-33</td>\n",
       "      <td>1.435053e-13</td>\n",
       "      <td>0.000000</td>\n",
       "      <td>0.000000</td>\n",
       "      <td>-3.604673e-17</td>\n",
       "      <td>-2.148475e-14</td>\n",
       "      <td>0.000000</td>\n",
       "    </tr>\n",
       "    <tr>\n",
       "      <th>25%</th>\n",
       "      <td>0.054108</td>\n",
       "      <td>0.021248</td>\n",
       "      <td>2.961787e-02</td>\n",
       "      <td>5.089918e-04</td>\n",
       "      <td>2.381995e-03</td>\n",
       "      <td>0.138315</td>\n",
       "      <td>8.899328e-02</td>\n",
       "      <td>9.271159e-02</td>\n",
       "      <td>0.022493</td>\n",
       "      <td>1.201630e-02</td>\n",
       "      <td>...</td>\n",
       "      <td>1.169275e-04</td>\n",
       "      <td>1.270013e-13</td>\n",
       "      <td>1.358104e-13</td>\n",
       "      <td>5.380599e-05</td>\n",
       "      <td>1.866808e-13</td>\n",
       "      <td>0.005478</td>\n",
       "      <td>0.010013</td>\n",
       "      <td>3.651962e-02</td>\n",
       "      <td>4.934874e-02</td>\n",
       "      <td>0.008084</td>\n",
       "    </tr>\n",
       "    <tr>\n",
       "      <th>50%</th>\n",
       "      <td>0.192980</td>\n",
       "      <td>0.492758</td>\n",
       "      <td>5.923147e-01</td>\n",
       "      <td>9.644146e-02</td>\n",
       "      <td>2.986511e-01</td>\n",
       "      <td>0.633548</td>\n",
       "      <td>8.278889e-01</td>\n",
       "      <td>8.486242e-01</td>\n",
       "      <td>0.337613</td>\n",
       "      <td>4.296779e-01</td>\n",
       "      <td>...</td>\n",
       "      <td>2.081838e-01</td>\n",
       "      <td>1.579151e-03</td>\n",
       "      <td>1.140358e-01</td>\n",
       "      <td>3.185565e-02</td>\n",
       "      <td>4.989652e-02</td>\n",
       "      <td>0.169617</td>\n",
       "      <td>0.255937</td>\n",
       "      <td>6.539921e-01</td>\n",
       "      <td>6.675421e-01</td>\n",
       "      <td>0.163215</td>\n",
       "    </tr>\n",
       "    <tr>\n",
       "      <th>75%</th>\n",
       "      <td>1.445456</td>\n",
       "      <td>2.398539</td>\n",
       "      <td>3.601697e+00</td>\n",
       "      <td>1.318940e+00</td>\n",
       "      <td>2.477893e+00</td>\n",
       "      <td>3.182630</td>\n",
       "      <td>3.727703e+00</td>\n",
       "      <td>3.629963e+00</td>\n",
       "      <td>2.558854</td>\n",
       "      <td>2.295852e+00</td>\n",
       "      <td>...</td>\n",
       "      <td>2.699071e+00</td>\n",
       "      <td>3.465456e-01</td>\n",
       "      <td>1.192421e+00</td>\n",
       "      <td>6.732646e-01</td>\n",
       "      <td>7.874740e-01</td>\n",
       "      <td>1.822582</td>\n",
       "      <td>2.450690</td>\n",
       "      <td>3.275132e+00</td>\n",
       "      <td>3.234430e+00</td>\n",
       "      <td>1.612815</td>\n",
       "    </tr>\n",
       "    <tr>\n",
       "      <th>max</th>\n",
       "      <td>149.967634</td>\n",
       "      <td>157.605713</td>\n",
       "      <td>8.946575e+01</td>\n",
       "      <td>1.344652e+02</td>\n",
       "      <td>8.713472e+01</td>\n",
       "      <td>124.952390</td>\n",
       "      <td>1.401478e+02</td>\n",
       "      <td>1.375916e+02</td>\n",
       "      <td>135.569753</td>\n",
       "      <td>9.642382e+01</td>\n",
       "      <td>...</td>\n",
       "      <td>9.306766e+01</td>\n",
       "      <td>1.095008e+02</td>\n",
       "      <td>7.484368e+01</td>\n",
       "      <td>1.016900e+02</td>\n",
       "      <td>8.045783e+01</td>\n",
       "      <td>114.898109</td>\n",
       "      <td>163.164524</td>\n",
       "      <td>1.549718e+02</td>\n",
       "      <td>1.673562e+02</td>\n",
       "      <td>192.933030</td>\n",
       "    </tr>\n",
       "  </tbody>\n",
       "</table>\n",
       "<p>8 rows × 26 columns</p>\n",
       "</div>"
      ],
      "text/plain": [
       "         ACCESS-CM2  ACCESS-ESM1-5  AWI-ESM-1-1-LR   BCC-CSM2-MR  \\\n",
       "count  36791.000000   36791.000000    3.679100e+04  3.679100e+04   \n",
       "mean       2.429419       2.938955    3.716329e+00  2.203086e+00   \n",
       "std        6.791374       7.048794    7.280859e+00  6.518224e+00   \n",
       "min        0.000000       0.000000    9.161142e-14  4.211430e-24   \n",
       "25%        0.054108       0.021248    2.961787e-02  5.089918e-04   \n",
       "50%        0.192980       0.492758    5.923147e-01  9.644146e-02   \n",
       "75%        1.445456       2.398539    3.601697e+00  1.318940e+00   \n",
       "max      149.967634     157.605713    8.946575e+01  1.344652e+02   \n",
       "\n",
       "           BCC-ESM1  CMCC-CM2-HR4  CMCC-CM2-SR5     CMCC-ESM2       CanESM5  \\\n",
       "count  3.679100e+04  36791.000000  3.679100e+04  3.679100e+04  36791.000000   \n",
       "mean   2.748441e+00      3.092784  3.575203e+00  3.489756e+00      2.879339   \n",
       "std    5.997439e+00      6.459254  7.353451e+00  7.039201e+00      6.898890   \n",
       "min    1.091904e-24      0.000000 -4.503054e-17 -3.186177e-19      0.000000   \n",
       "25%    2.381995e-03      0.138315  8.899328e-02  9.271159e-02      0.022493   \n",
       "50%    2.986511e-01      0.633548  8.278889e-01  8.486242e-01      0.337613   \n",
       "75%    2.477893e+00      3.182630  3.727703e+00  3.629963e+00      2.558854   \n",
       "max    8.713472e+01    124.952390  1.401478e+02  1.375916e+02    135.569753   \n",
       "\n",
       "       EC-Earth3-Veg-LR  ...  MPI-ESM-1-2-HAM  MPI-ESM1-2-HR  MPI-ESM1-2-LR  \\\n",
       "count      3.679100e+04  ...     3.679100e+04   3.679100e+04   3.679100e+04   \n",
       "mean       2.565430e+00  ...     3.213535e+00   1.299377e+00   2.041242e+00   \n",
       "std        5.732742e+00  ...     6.979341e+00   4.890737e+00   5.347782e+00   \n",
       "min       -9.934637e-19  ...     3.315622e-13   1.088608e-13   9.155419e-14   \n",
       "25%        1.201630e-02  ...     1.169275e-04   1.270013e-13   1.358104e-13   \n",
       "50%        4.296779e-01  ...     2.081838e-01   1.579151e-03   1.140358e-01   \n",
       "75%        2.295852e+00  ...     2.699071e+00   3.465456e-01   1.192421e+00   \n",
       "max        9.642382e+01  ...     9.306766e+01   1.095008e+02   7.484368e+01   \n",
       "\n",
       "         MRI-ESM2-0         NESM3    NorESM2-LM    NorESM2-MM   SAM0-UNICON  \\\n",
       "count  3.679100e+04  3.679100e+04  36791.000000  36791.000000  3.679100e+04   \n",
       "mean   1.533212e+00  1.726792e+00      2.458268      2.890478  3.383557e+00   \n",
       "std    5.000287e+00  4.872754e+00      5.815333      7.129072  7.927354e+00   \n",
       "min    9.479186e-33  1.435053e-13      0.000000      0.000000 -3.604673e-17   \n",
       "25%    5.380599e-05  1.866808e-13      0.005478      0.010013  3.651962e-02   \n",
       "50%    3.185565e-02  4.989652e-02      0.169617      0.255937  6.539921e-01   \n",
       "75%    6.732646e-01  7.874740e-01      1.822582      2.450690  3.275132e+00   \n",
       "max    1.016900e+02  8.045783e+01    114.898109    163.164524  1.549718e+02   \n",
       "\n",
       "            TaiESM1      Observed  \n",
       "count  3.679100e+04  36791.000000  \n",
       "mean   3.417809e+00      2.726320  \n",
       "std    7.558577e+00      8.078310  \n",
       "min   -2.148475e-14      0.000000  \n",
       "25%    4.934874e-02      0.008084  \n",
       "50%    6.675421e-01      0.163215  \n",
       "75%    3.234430e+00      1.612815  \n",
       "max    1.673562e+02    192.933030  \n",
       "\n",
       "[8 rows x 26 columns]"
      ]
     },
     "execution_count": 5,
     "metadata": {},
     "output_type": "execute_result"
    }
   ],
   "source": [
    "# Step 4: EDA\n",
    "train_df.describe()"
   ]
  },
  {
   "cell_type": "code",
   "execution_count": 6,
   "metadata": {},
   "outputs": [
    {
     "data": {
      "image/png": "[encoded data removed]",
      "text/plain": [
       "<Figure size 864x432 with 1 Axes>"
      ]
     },
     "metadata": {},
     "output_type": "display_data"
    }
   ],
   "source": [
    "plt.style.use('ggplot')\n",
    "plt.rcParams[\"figure.figsize\"] = (12, 6)\n",
    "ax = train_df.plot(kind='line')\n",
    "ax.legend(ax.get_lines(), train_df.columns,\n",
    "          loc='center left', bbox_to_anchor=(1, 0.5))\n",
    "ax.set_xlabel(\"Time\")\n",
    "ax.set_ylabel(\"Predicted rainfall (mm/day)\")\n",
    "plt.show()"
   ]
  },
  {
   "cell_type": "code",
   "execution_count": 7,
   "metadata": {},
   "outputs": [],
   "source": [
    "# Step 5: Train model\n",
    "X_train = train_df.drop(columns=[\"Observed\"])\n",
    "y_train = train_df[\"Observed\"]\n",
    "\n",
    "X_test = test_df.drop(columns=[\"Observed\"])\n",
    "y_test = test_df[\"Observed\"]"
   ]
  },
  {
   "cell_type": "code",
   "execution_count": 8,
   "metadata": {},
   "outputs": [
    {
     "data": {
      "text/plain": [
       "RandomForestRegressor()"
      ]
     },
     "execution_count": 8,
     "metadata": {},
     "output_type": "execute_result"
    }
   ],
   "source": [
    "model = RandomForestRegressor()\n",
    "model.fit(X_train, y_train)"
   ]
  },
  {
   "cell_type": "code",
   "execution_count": 9,
   "metadata": {},
   "outputs": [],
   "source": [
    "y_hat = model.predict(X_test)"
   ]
  },
  {
   "cell_type": "code",
   "execution_count": 10,
   "metadata": {},
   "outputs": [
    {
     "data": {
      "text/html": [
       "<div>\n",
       "<style scoped>\n",
       "    .dataframe tbody tr th:only-of-type {\n",
       "        vertical-align: middle;\n",
       "    }\n",
       "\n",
       "    .dataframe tbody tr th {\n",
       "        vertical-align: top;\n",
       "    }\n",
       "\n",
       "    .dataframe thead th {\n",
       "        text-align: right;\n",
       "    }\n",
       "</style>\n",
       "<table border=\"1\" class=\"dataframe\">\n",
       "  <thead>\n",
       "    <tr style=\"text-align: right;\">\n",
       "      <th></th>\n",
       "      <th>RMSE</th>\n",
       "    </tr>\n",
       "    <tr>\n",
       "      <th>Model</th>\n",
       "      <th></th>\n",
       "    </tr>\n",
       "  </thead>\n",
       "  <tbody>\n",
       "    <tr>\n",
       "      <th>Ensemble</th>\n",
       "      <td>8.822494</td>\n",
       "    </tr>\n",
       "  </tbody>\n",
       "</table>\n",
       "</div>"
      ],
      "text/plain": [
       "              RMSE\n",
       "Model             \n",
       "Ensemble  8.822494"
      ]
     },
     "execution_count": 10,
     "metadata": {},
     "output_type": "execute_result"
    }
   ],
   "source": [
    "results = {}\n",
    "results[\"Model\"] = [\"Ensemble\"]\n",
    "results[\"RMSE\"] = [mean_squared_error(y_test, y_hat, squared=False)]\n",
    "\n",
    "pd.DataFrame(results).set_index(\"Model\")"
   ]
  },
  {
   "cell_type": "code",
   "execution_count": 11,
   "metadata": {},
   "outputs": [
    {
     "data": {
      "text/html": [
       "<div>\n",
       "<style scoped>\n",
       "    .dataframe tbody tr th:only-of-type {\n",
       "        vertical-align: middle;\n",
       "    }\n",
       "\n",
       "    .dataframe tbody tr th {\n",
       "        vertical-align: top;\n",
       "    }\n",
       "\n",
       "    .dataframe thead th {\n",
       "        text-align: right;\n",
       "    }\n",
       "</style>\n",
       "<table border=\"1\" class=\"dataframe\">\n",
       "  <thead>\n",
       "    <tr style=\"text-align: right;\">\n",
       "      <th></th>\n",
       "      <th>RMSE</th>\n",
       "    </tr>\n",
       "    <tr>\n",
       "      <th>Model</th>\n",
       "      <th></th>\n",
       "    </tr>\n",
       "  </thead>\n",
       "  <tbody>\n",
       "    <tr>\n",
       "      <th>Ensemble</th>\n",
       "      <td>8.822494</td>\n",
       "    </tr>\n",
       "    <tr>\n",
       "      <th>KIOST-ESM</th>\n",
       "      <td>9.600480</td>\n",
       "    </tr>\n",
       "    <tr>\n",
       "      <th>FGOALS-g3</th>\n",
       "      <td>9.687788</td>\n",
       "    </tr>\n",
       "    <tr>\n",
       "      <th>MRI-ESM2-0</th>\n",
       "      <td>9.922795</td>\n",
       "    </tr>\n",
       "    <tr>\n",
       "      <th>MPI-ESM1-2-HR</th>\n",
       "      <td>9.969823</td>\n",
       "    </tr>\n",
       "    <tr>\n",
       "      <th>NESM3</th>\n",
       "      <td>9.978137</td>\n",
       "    </tr>\n",
       "    <tr>\n",
       "      <th>MPI-ESM1-2-LR</th>\n",
       "      <td>10.260886</td>\n",
       "    </tr>\n",
       "    <tr>\n",
       "      <th>NorESM2-LM</th>\n",
       "      <td>10.410145</td>\n",
       "    </tr>\n",
       "    <tr>\n",
       "      <th>EC-Earth3-Veg-LR</th>\n",
       "      <td>10.453606</td>\n",
       "    </tr>\n",
       "    <tr>\n",
       "      <th>GFDL-CM4</th>\n",
       "      <td>10.511682</td>\n",
       "    </tr>\n",
       "    <tr>\n",
       "      <th>BCC-ESM1</th>\n",
       "      <td>10.615578</td>\n",
       "    </tr>\n",
       "    <tr>\n",
       "      <th>CMCC-CM2-HR4</th>\n",
       "      <td>10.643204</td>\n",
       "    </tr>\n",
       "    <tr>\n",
       "      <th>ACCESS-ESM1-5</th>\n",
       "      <td>10.695305</td>\n",
       "    </tr>\n",
       "    <tr>\n",
       "      <th>BCC-CSM2-MR</th>\n",
       "      <td>10.761381</td>\n",
       "    </tr>\n",
       "    <tr>\n",
       "      <th>MPI-ESM-1-2-HAM</th>\n",
       "      <td>10.932004</td>\n",
       "    </tr>\n",
       "    <tr>\n",
       "      <th>NorESM2-MM</th>\n",
       "      <td>10.939740</td>\n",
       "    </tr>\n",
       "    <tr>\n",
       "      <th>AWI-ESM-1-1-LR</th>\n",
       "      <td>10.996616</td>\n",
       "    </tr>\n",
       "    <tr>\n",
       "      <th>ACCESS-CM2</th>\n",
       "      <td>11.038999</td>\n",
       "    </tr>\n",
       "    <tr>\n",
       "      <th>CanESM5</th>\n",
       "      <td>11.151318</td>\n",
       "    </tr>\n",
       "    <tr>\n",
       "      <th>CMCC-ESM2</th>\n",
       "      <td>11.246493</td>\n",
       "    </tr>\n",
       "    <tr>\n",
       "      <th>MIROC6</th>\n",
       "      <td>11.352976</td>\n",
       "    </tr>\n",
       "    <tr>\n",
       "      <th>INM-CM4-8</th>\n",
       "      <td>11.451635</td>\n",
       "    </tr>\n",
       "    <tr>\n",
       "      <th>CMCC-CM2-SR5</th>\n",
       "      <td>11.480614</td>\n",
       "    </tr>\n",
       "    <tr>\n",
       "      <th>TaiESM1</th>\n",
       "      <td>11.528083</td>\n",
       "    </tr>\n",
       "    <tr>\n",
       "      <th>SAM0-UNICON</th>\n",
       "      <td>11.678749</td>\n",
       "    </tr>\n",
       "    <tr>\n",
       "      <th>INM-CM5-0</th>\n",
       "      <td>12.250223</td>\n",
       "    </tr>\n",
       "  </tbody>\n",
       "</table>\n",
       "</div>"
      ],
      "text/plain": [
       "                       RMSE\n",
       "Model                      \n",
       "Ensemble           8.822494\n",
       "KIOST-ESM          9.600480\n",
       "FGOALS-g3          9.687788\n",
       "MRI-ESM2-0         9.922795\n",
       "MPI-ESM1-2-HR      9.969823\n",
       "NESM3              9.978137\n",
       "MPI-ESM1-2-LR     10.260886\n",
       "NorESM2-LM        10.410145\n",
       "EC-Earth3-Veg-LR  10.453606\n",
       "GFDL-CM4          10.511682\n",
       "BCC-ESM1          10.615578\n",
       "CMCC-CM2-HR4      10.643204\n",
       "ACCESS-ESM1-5     10.695305\n",
       "BCC-CSM2-MR       10.761381\n",
       "MPI-ESM-1-2-HAM   10.932004\n",
       "NorESM2-MM        10.939740\n",
       "AWI-ESM-1-1-LR    10.996616\n",
       "ACCESS-CM2        11.038999\n",
       "CanESM5           11.151318\n",
       "CMCC-ESM2         11.246493\n",
       "MIROC6            11.352976\n",
       "INM-CM4-8         11.451635\n",
       "CMCC-CM2-SR5      11.480614\n",
       "TaiESM1           11.528083\n",
       "SAM0-UNICON       11.678749\n",
       "INM-CM5-0         12.250223"
      ]
     },
     "execution_count": 11,
     "metadata": {},
     "output_type": "execute_result"
    }
   ],
   "source": [
    "# Step 6: Discuss results\n",
    "\n",
    "for col in X_test.columns:\n",
    "    results[\"Model\"].append(col)\n",
    "    results[\"RMSE\"].append(mean_squared_error(y_test, X_test[col], squared=False))\n",
    "\n",
    "results_df = pd.DataFrame(results).set_index(\"Model\").sort_values(\"RMSE\")\n",
    "results_df"
   ]
  },
  {
   "cell_type": "markdown",
   "metadata": {},
   "source": [
    "> **Answer:** The RMSE of all the models to the test set are sorted in ascending order and we see that the RMSE of the ensemble model is lowest which suggests that the ensemble model performs better than any of the individual climate models."
   ]
  },
  {
   "cell_type": "markdown",
   "metadata": {},
   "source": [
    "## Part 2:"
   ]
  },
  {
   "cell_type": "markdown",
   "metadata": {},
   "source": [
    "### Preparation for deploying model next week"
   ]
  },
  {
   "cell_type": "markdown",
   "metadata": {},
   "source": [
    "***NOTE: Complete task 4 from the milestone3 before coming here***"
   ]
  },
  {
   "cell_type": "markdown",
   "metadata": {},
   "source": [
    "We’ve found the best hyperparameter settings with MLlib (from the task 4 from milestone3), here we then use the same hyperparameters to train a scikit-learn model. "
   ]
  },
  {
   "cell_type": "code",
   "execution_count": 12,
   "metadata": {},
   "outputs": [
    {
     "data": {
      "text/plain": [
       "RandomForestRegressor(max_depth=5)"
      ]
     },
     "execution_count": 12,
     "metadata": {},
     "output_type": "execute_result"
    }
   ],
   "source": [
    "model = RandomForestRegressor(n_estimators=100, max_depth=5)\n",
    "model.fit(X_train, y_train)"
   ]
  },
  {
   "cell_type": "code",
   "execution_count": 13,
   "metadata": {},
   "outputs": [
    {
     "name": "stdout",
     "output_type": "stream",
     "text": [
      "Train RMSE: 7.89\n",
      " Test RMSE: 8.64\n"
     ]
    }
   ],
   "source": [
    "print(f\"Train RMSE: {mean_squared_error(y_train, model.predict(X_train), squared=False):.2f}\")\n",
    "print(f\" Test RMSE: {mean_squared_error(y_test, model.predict(X_test), squared=False):.2f}\")"
   ]
  },
  {
   "cell_type": "code",
   "execution_count": 14,
   "metadata": {},
   "outputs": [
    {
     "data": {
      "text/plain": [
       "['model.joblib']"
      ]
     },
     "execution_count": 14,
     "metadata": {},
     "output_type": "execute_result"
    }
   ],
   "source": [
    "# ready to deploy\n",
    "dump(model, \"model.joblib\")"
   ]
  },
  {
   "cell_type": "markdown",
   "metadata": {},
   "source": [
    "***Upload model.joblib to s3 under output folder. You choose how you want to upload it (using CLI, SDK, or web console).***"
   ]
  }
 ],
 "metadata": {
  "kernelspec": {
   "display_name": "Python [conda env:573]",
   "language": "python",
   "name": "conda-env-573-py"
  },
  "language_info": {
   "codemirror_mode": {
    "name": "ipython",
    "version": 3
   },
   "file_extension": ".py",
   "mimetype": "text/x-python",
   "name": "python",
   "nbconvert_exporter": "python",
   "pygments_lexer": "ipython3",
   "version": "3.9.7"
  }
 },
 "nbformat": 4,
 "nbformat_minor": 4
}
