{
 "cells": [
  {
   "cell_type": "markdown",
   "id": "89fd3f58-910a-4020-a92f-7216947210ca",
   "metadata": {},
   "source": [
    "# Milestone 3"
   ]
  },
  {
   "cell_type": "markdown",
   "id": "863baee3-ea97-49cc-ad68-6998230699ed",
   "metadata": {},
   "source": [
    "### 1. Setup EMR cluster\n",
    "\n",
    "<br>"
   ]
  },
  {
   "cell_type": "markdown",
   "id": "0f75dfe2-ea04-427c-82a7-e9f4074f9fe7",
   "metadata": {},
   "source": [
    "### 2. Setup browser, jupyter environment and connect to master node\n",
    "\n",
    "<br>"
   ]
  },
  {
   "cell_type": "markdown",
   "id": "7f7b7aac-41a8-4935-9dfd-afc532631d7f",
   "metadata": {},
   "source": [
    "### 3. Develop ML model\n",
    "\n",
    "The relevant notebook can be found [here](https://github.com/UBC-MDS/mds_525_group_15/blob/main/notebooks/Milestone3-Task3.ipynb).\n",
    "\n",
    "<br>"
   ]
  },
  {
   "cell_type": "markdown",
   "id": "c12987e6-a99a-4d2c-8b42-50c302d27572",
   "metadata": {},
   "source": [
    "### 4. Hyperparameter optimization\n",
    "\n",
    "The relevant notebook can be found [here](https://github.com/UBC-MDS/mds_525_group_15/blob/main/notebooks/Milestone3-Task4.ipynb).\n",
    "\n",
    "<br>"
   ]
  },
  {
   "cell_type": "code",
   "execution_count": null,
   "id": "b66b36ea-cf8e-4e0e-9deb-976e9e88f9e2",
   "metadata": {},
   "outputs": [],
   "source": []
  }
 ],
 "metadata": {
  "kernelspec": {
   "display_name": "Python 3",
   "language": "python",
   "name": "python3"
  },
  "language_info": {
   "codemirror_mode": {
    "name": "ipython",
    "version": 3
   },
   "file_extension": ".py",
   "mimetype": "text/x-python",
   "name": "python",
   "nbconvert_exporter": "python",
   "pygments_lexer": "ipython3",
   "version": "3.9.5"
  }
 },
 "nbformat": 4,
 "nbformat_minor": 5
}
